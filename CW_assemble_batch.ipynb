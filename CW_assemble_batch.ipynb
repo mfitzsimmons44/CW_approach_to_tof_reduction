{
 "cells": [
  {
   "cell_type": "markdown",
   "metadata": {},
   "source": [
    "## Produce R(Q) from R(WaveLength, Two_Theta) for variable Two_Theta in fixed wavelength bins [Batch Mode]\n",
    "\n",
    "Version 1.1\n",
    "\n",
    "09.15.2020\n",
    "\n",
    "M.R. Fitzsimmons\n",
    "\n",
    "10.07.2020 Documentation added.\n",
    "\n"
   ]
  },
  {
   "cell_type": "markdown",
   "metadata": {},
   "source": [
    "## User selects run files to assemble.\n",
    "Must run CW_reduction_batch first to produce the background subtracted binned R(WaveLength, Two_Theta) files.\n",
    "\n",
    "    1) Assign directory path. Code will search directory for output files from the CW_reduction... notebook.\n",
    "    2) Identify run numbers to assemble (run numbers correspond to different two_theta values)\n",
    "    3) Choose constant Q bins or logarthimic Q bins and size of bins.\n",
    "    4) Set signal threshold below which data will not be used.\n",
    "    5) Choose whether or not to apply phase space brightness correction.\n"
   ]
  },
  {
   "cell_type": "code",
   "execution_count": 76,
   "metadata": {},
   "outputs": [
    {
     "data": {
      "text/html": [
       "<style>div.output_scroll { height: 44em; }</style>"
      ],
      "text/plain": [
       "<IPython.core.display.HTML object>"
      ]
     },
     "metadata": {},
     "output_type": "display_data"
    },
    {
     "name": "stdout",
     "output_type": "stream",
     "text": [
      "/Users/mf3\n",
      "Current working directory: /Users/mf3\n"
     ]
    }
   ],
   "source": [
    "# Suppress autoscrolling in notebook, otherwise try Cell>All Output>Toggle Scrolling\n",
    "from IPython.core.display import display, HTML\n",
    "display(HTML(\"<style>div.output_scroll { height: 44em; }</style>\"))\n",
    "\n",
    "import os\n",
    "%cd ~\n",
    "cwd_path = os.getcwd()\n",
    "print('Current working directory: %s'%cwd_path)\n",
    "\n",
    "directory_path = cwd_path+r'/Dropbox (ORNL)/Neutron Scattering/CW Approach/ForGitHub/' # USER INPUT HERE\n",
    "Output_File_Base = directory_path+'RvsQ' \n",
    "\n",
    "run_numbers = ['36563','-','36662'] # USER INPUT HERE, the run numbers batch8 eric\n",
    "\n",
    "#LogBin = False # USER INPUT HERE Specify whether to produce Qbins of constant size (=False)\n",
    "LogBin = True # USER INPUT HERE Specify whether to apply log binning of Qbins (= True)\n",
    "\n",
    "if LogBin:\n",
    "    rel_dQ = 0.01 #  USER INPUT HERE Q bins such that dQ/Q = rel_dQ\n",
    "else:\n",
    "    abs_dQ = 0.05 #  USER INPUT HERE Q bins of constant size such that dQ = abs_dLQ * Qmin\n",
    "    \n",
    "# USER INPUT HERE, if true This is an absolute number below which data will be discarded, could be 0 to suppress.\n",
    "# If False will use fractional definition\n",
    "\n",
    "UserSignalThreshold = False \n",
    "#UserSignalThreshold = True \n",
    "\n",
    "SignalThreshold = 0.5 # USER INPUT HERE By default all data < SignalThreshold*distribution average will be discarded, e.g., proton flash zeros\n",
    "if UserSignalThreshold:\n",
    "    SignalThreshold = 10000. \n",
    "    \n",
    "# Data were taken ensuring the sample was over-illuminated for all 2theta, brightness increases as theta^2\n",
    "# USER INPUT HERE, true if sample was at least somewhat over-illuminated and slit opened with theta\n",
    "\n",
    "PhaseSpaceBrightness = True \n",
    "#PhaseSpaceBrightness = False\n",
    "\n",
    "# Set for True to execute diagnostic inspections (in this section define which wavelength bins to inspect)\n",
    "Diagnostic = False\n",
    "#Diagnostic = True"
   ]
  },
  {
   "cell_type": "markdown",
   "metadata": {},
   "source": [
    "## Import libraries and define functions"
   ]
  },
  {
   "cell_type": "code",
   "execution_count": 77,
   "metadata": {},
   "outputs": [],
   "source": [
    "import numpy as np\n",
    "import numpy.ma as ma \n",
    "from numpy.linalg import inv\n",
    "np.warnings.filterwarnings('ignore')\n",
    "import matplotlib.pyplot as plt\n",
    "from matplotlib.colors import LogNorm\n",
    "import matplotlib.cm as cm\n",
    "import matplotlib.colors as colors\n",
    "import scipy.optimize as opt\n",
    "import scipy.constants \n",
    "import copy\n",
    "from datetime import datetime\n",
    "\n",
    "# get physical constants from scipy library\n",
    "Pi = scipy.constants.pi\n"
   ]
  },
  {
   "cell_type": "markdown",
   "metadata": {},
   "source": [
    "## Begin processing of many files"
   ]
  },
  {
   "cell_type": "code",
   "execution_count": 78,
   "metadata": {},
   "outputs": [
    {
     "name": "stdout",
     "output_type": "stream",
     "text": [
      "Runs found: ['36563', '36564', '36565', '36566', '36567', '36568', '36569', '36570', '36571', '36572', '36573', '36574', '36575', '36576', '36577', '36578', '36579', '36580', '36581', '36582', '36583', '36584', '36585', '36586', '36587', '36588', '36589', '36590', '36591', '36592', '36593', '36594', '36595', '36596', '36597', '36598', '36599', '36600', '36601', '36602', '36603', '36604', '36605', '36606', '36607', '36608', '36609', '36610', '36611', '36612', '36613', '36614', '36615', '36616', '36617', '36618', '36619', '36620', '36621', '36622', '36623', '36624', '36625', '36626', '36627', '36628', '36629', '36630', '36631', '36632', '36633', '36634', '36635', '36636', '36637', '36638', '36639', '36640', '36641', '36642', '36643', '36644', '36645', '36646', '36647', '36648', '36649', '36650', '36651', '36652', '36653', '36654', '36655', '36656', '36657', '36658', '36659', '36660', '36661', '36662']\n"
     ]
    }
   ],
   "source": [
    "# This bit of code will check whether the user defined a range with the '-' symbol. If so create a continuous range of run numbers\n",
    "if any('-' in s for s in run_numbers):\n",
    "    i,j = int(run_numbers[0]),int(run_numbers[len(run_numbers)-1])\n",
    "    if j<i:\n",
    "        j,i = i,j\n",
    "    run_numbers = []\n",
    "    for k in range(i,j+1,1):\n",
    "        run_numbers.append(str(k))\n",
    "MaxRunNumber = len(run_numbers)\n",
    "\n",
    "# Check for valid files, elimnate choices that are not valid\n",
    "RunNumbers = []\n",
    "for RunIndex in range(MaxRunNumber):\n",
    "    Input_File_Base = directory_path+run_numbers[RunIndex]+'_output' \n",
    "    data_is = os.path.isfile(Input_File_Base+'.txt')\n",
    "    if data_is:\n",
    "        RunNumbers.append(str(run_numbers[RunIndex]))\n",
    "    else:\n",
    "        print('Data files not found: %s'%Input_File_Base)\n",
    "        raise SystemExit('Files not found, stopping.')\n",
    "\n",
    "print('Runs found: %s'%RunNumbers)\n",
    "MaxRunNumber = len(RunNumbers)\n",
    "\n",
    "for RunIndex in range(MaxRunNumber):\n",
    "    \n",
    "    Input_File_Base = directory_path+RunNumbers[RunIndex]+'_output' \n",
    "    File_object = open(Input_File_Base+'.txt','r') # Load some data\n",
    "    a = File_object.readlines()\n",
    "    \n",
    "# AllData will contain the signal data vs. variable wavelength vs. number of two_theta steps\n",
    "    if (RunIndex == 0):        \n",
    "        NWaveLength = len(a)\n",
    "        AllData = np.zeros((NWaveLength,5,MaxRunNumber), dtype=np.float32)\n",
    "        \n",
    "    for i in range(NWaveLength):\n",
    "        floats = [float(x) for x in a[i].split('\\t')]\n",
    "        AllData[i,0,RunIndex] = floats[0] # wavelength in angstroms\n",
    "        AllData[i,1,RunIndex] = floats[1] # 2theta in radians\n",
    "        AllData[i,2,RunIndex] = floats[2] # signal\n",
    "        AllData[i,3,RunIndex] = floats[3] # variance\n",
    "        AllData[i,4,RunIndex] = 4*Pi*np.sin(AllData[i,1,RunIndex]/2)/AllData[i,0,RunIndex] # Q in recip Angstroms\n",
    "    File_object.close()\n",
    "    \n",
    "# Check that all two_theta steps have the same wavelength range and steps\n",
    "\n",
    "WaveLength = AllData[:,0,0] # we assume the list of wavelengths for the first file defines the range and steps\n",
    "for RunIndex in range(MaxRunNumber):\n",
    "    g = np.sum(AllData[:,0,RunIndex]-WaveLength)\n",
    "    if (g != 0): # Report a mismatch\n",
    "        print('Error: Wavelength mismatch. %s'%(RunNumbers[RunIndex]))\n",
    "\n",
    "# for fixed first entry (wavelength) the last three columns of AllData provide S(Q), Var(Q) and Q"
   ]
  },
  {
   "cell_type": "markdown",
   "metadata": {},
   "source": [
    "## Exclude low signal regions\n",
    "These regions occur either because they are coincident with the proton flash or chopper shadows."
   ]
  },
  {
   "cell_type": "code",
   "execution_count": 79,
   "metadata": {},
   "outputs": [
    {
     "data": {
      "image/png": "[encoded data removed]",
      "text/plain": [
       "<Figure size 504x504 with 1 Axes>"
      ]
     },
     "metadata": {
      "needs_background": "light"
     },
     "output_type": "display_data"
    },
    {
     "name": "stdout",
     "output_type": "stream",
     "text": [
      "Number of wavelength bins: 95\n",
      "Time of flight gain for 2% wavelength resolution: 22.5\n"
     ]
    }
   ],
   "source": [
    "WaveLengthProjection = np.zeros(NWaveLength, dtype=np.float32)\n",
    "for i in range(NWaveLength):\n",
    "    WaveLengthProjection[i] = np.sum(AllData[i,2,:])\n",
    "\n",
    "# Initialize values to true\n",
    "SignalMask = np.array([True for i in range(NWaveLength)] )\n",
    "\n",
    "if not UserSignalThreshold:\n",
    "    SignalThreshold = SignalThreshold * np.mean(WaveLengthProjection)\n",
    "\n",
    "SignalMask[WaveLengthProjection < SignalThreshold] = False\n",
    "\n",
    "Masked = np.argwhere(SignalMask==False)\n",
    "\n",
    "plt.figure(figsize = (7,7))\n",
    "plt.xlabel('WaveLength ($\\AA$)',fontsize=18)\n",
    "plt.ylabel('Signal',fontsize=18)\n",
    "plt.title('Integration over all detector angles',fontsize=18)\n",
    "plt.plot(AllData[:,0,0],WaveLengthProjection, 'bo',label = 'Data kept')\n",
    "plt.plot(AllData[Masked,0,0],WaveLengthProjection[Masked], 'ro', label = 'Data discarded')\n",
    "plt.legend(loc='upper left', fontsize='x-large')\n",
    "plt.show()\n",
    "\n",
    "# Now remove the exclude regions\n",
    "AllData = np.delete(AllData, Masked, axis=0)\n",
    "TOFGain = int(len(AllData[:,0,0]))\n",
    "print('Number of wavelength bins: %s'%TOFGain)\n",
    "\n",
    "# Assign conventional labels\n",
    "WaveLength = AllData[:,0,:]\n",
    "TwoTheta = AllData[:,1,:]\n",
    "Q = AllData[:,4,:]\n",
    "R = AllData[:,2,:]\n",
    "VarR = AllData[:,3,:]\n",
    "\n",
    "if PhaseSpaceBrightness:\n",
    "    R = R / (TwoTheta/2)**2\n",
    "    VarR = VarR / (TwoTheta/2)**4\n",
    "    \n",
    "print('Time of flight gain for 2%% wavelength resolution: %.1f'%((np.max(WaveLength[:,0])-np.min(WaveLength[:,0]))/(np.mean(WaveLength[:,0]) * 0.02)))\n",
    "\n",
    "# Check for negative values, if found reset R and VarR to 0.\n",
    "NegativeR = np.argwhere(R<0)\n",
    "NNeg = len(NegativeR)\n",
    "if NNeg > 0:    \n",
    "    for i in range(NNeg):\n",
    "        R[NegativeR[i,0],NegativeR[i,1]] = 0.\n",
    "        VarR[NegativeR[i,0],NegativeR[i,1]] = 0.\n"
   ]
  },
  {
   "cell_type": "markdown",
   "metadata": {},
   "source": [
    "## Diagnostic inspection\n",
    "Set values for u and v to be small to large wavelength bin numbers. Analysis restricted to bins within these limits."
   ]
  },
  {
   "cell_type": "code",
   "execution_count": 80,
   "metadata": {},
   "outputs": [],
   "source": [
    "if Diagnostic:\n",
    "# pick subset for diagnostics\n",
    "    u,v = 40, 55\n",
    "    WaveLength = WaveLength[u:v,:]\n",
    "    TwoTheta = TwoTheta[u:v,:]\n",
    "    Q = Q[u:v,:]\n",
    "    R = R[u:v,:]\n",
    "    VarR = VarR[u:v,:]\n",
    "\n",
    "    TOFGain = v-u  \n",
    "    \n",
    "    plt.figure(figsize = (7,7))\n",
    "    plt.xlabel('Q ($\\AA$\\N{SUPERSCRIPT MINUS}\\N{SUPERSCRIPT ONE})',fontsize=18)\n",
    "    plt.ylabel('Signal',fontsize=18)\n",
    "    plt.title('Many R curves (zeros suppressed)',fontsize=18)\n",
    "    plt.yscale('log')\n",
    "    for i in range(TOFGain):\n",
    "        Masked = np.argwhere(R[i,:]>0)\n",
    "        x = Q[i,Masked]\n",
    "        y = R[i,Masked]\n",
    "        plt.plot(x,y)\n",
    "    plt.show()"
   ]
  },
  {
   "cell_type": "markdown",
   "metadata": {},
   "source": [
    "## Normalize curves to have same signal in the same shared region of Q.\n",
    "In the region of Q shared by all curves, the curves should look the same except for scaling.\n",
    "\n",
    "    1) Find the region of Q that is shared by all wavelength bins. \n",
    "    2) Compute integrated intensities for each bin and scale signal and variance accordingly\n",
    "    3) Plot the integrated intensities vs. wavelength"
   ]
  },
  {
   "cell_type": "code",
   "execution_count": 81,
   "metadata": {},
   "outputs": [
    {
     "name": "stdout",
     "output_type": "stream",
     "text": [
      "Q-overlap region: 0.019123752, 0.16020207\n"
     ]
    },
    {
     "data": {
      "image/png": "[encoded data removed]",
      "text/plain": [
       "<Figure size 504x504 with 1 Axes>"
      ]
     },
     "metadata": {
      "needs_background": "light"
     },
     "output_type": "display_data"
    }
   ],
   "source": [
    "# find Q overlap region for all curves\n",
    "QOverMin, QOverMax = np.min(Q[0,:]), np.max(Q[TOFGain-1,:])\n",
    "\n",
    "print('Q-overlap region: %s, %s'%(QOverMin, QOverMax))\n",
    "\n",
    "Scales = np.zeros(TOFGain,dtype=np.float32)\n",
    "for i in range(TOFGain):\n",
    "    b = Q[i,:] <= QOverMax\n",
    "    c = Q[i,:] >= QOverMin\n",
    "    d = b & c\n",
    "    Scales[i] = np.sum(R[i,d]) * (QOverMax-QOverMin) / (np.max(Q[i,d])-np.min(Q[i,d]))\n",
    "    R[i,:] = R[i,:] / Scales[i]\n",
    "    VarR[i,:] = VarR[i,:] / Scales[i]**2\n",
    "    \n",
    "plt.figure(figsize = (7,7))\n",
    "plt.xlabel('Wavelength ($\\AA$)',fontsize=18)\n",
    "plt.ylabel('Scale Factor',fontsize=18)\n",
    "plt.plot(WaveLength,Scales,'bo')\n",
    "plt.show()\n",
    "\n",
    "QSum = np.sum(Q,axis=0)/TOFGain # these for crude comparison\n",
    "RSum = np.sum(R,axis=0)/TOFGain\n",
    "VarRSum = np.sum(VarR,axis=0)/TOFGain**2\n"
   ]
  },
  {
   "cell_type": "code",
   "execution_count": 82,
   "metadata": {},
   "outputs": [],
   "source": [
    "if Diagnostic:\n",
    "    plt.figure(figsize = (7,7))\n",
    "    plt.xlabel('Q ($\\AA$\\N{SUPERSCRIPT MINUS}\\N{SUPERSCRIPT ONE})',fontsize=18)\n",
    "    plt.ylabel('Signal',fontsize=18)\n",
    "    plt.title('Many R curves after scaling (zeros suppressed)',fontsize=18)\n",
    "    plt.yscale('log')\n",
    "    for i in range(TOFGain):\n",
    "        Masked = np.argwhere(R[i,:]>0)\n",
    "        x = Q[i,Masked]\n",
    "        y = R[i,Masked]\n",
    "        plt.plot(x,y)\n",
    "    plt.show()"
   ]
  },
  {
   "cell_type": "markdown",
   "metadata": {},
   "source": [
    "## Perform contant Q binning across all wavelength measurements"
   ]
  },
  {
   "cell_type": "code",
   "execution_count": 83,
   "metadata": {},
   "outputs": [
    {
     "data": {
      "image/png": "[encoded data removed]",
      "text/plain": [
       "<Figure size 504x504 with 1 Axes>"
      ]
     },
     "metadata": {
      "needs_background": "light"
     },
     "output_type": "display_data"
    }
   ],
   "source": [
    "QMin, QMax = np.min(Q), np.max(Q)\n",
    "\n",
    "if LogBin:\n",
    "    p = int(np.log(QMax/QMin)/np.log(1+rel_dQ)+1)+1\n",
    "    QBins = np.zeros(p, dtype=np.float32)\n",
    "    for i in range(p):\n",
    "        QBins[i]=(1+rel_dQ)**i*QMin # tof values for start of each bin\n",
    "else:\n",
    "    p = int((QMax-QMin)/(abs_dQ*QMin)+1)+1\n",
    "    QBins = np.linspace(QMin,QMax,p)\n",
    "\n",
    "Qz = np.zeros(p-1, dtype=np.float32)\n",
    "R0 = np.zeros(p-1, dtype=np.float32)\n",
    "VarR0 = np.zeros(p-1, dtype=np.float32)\n",
    "\n",
    "for j in range(p-1):\n",
    "    Qz[j] = (QBins[j]+QBins[j+1])/2. # qz value for the mean of the bin\n",
    "    k = 0 # k records the number of contributions to R(Qz)\n",
    "    for i in range(TOFGain):\n",
    "        b = Q[i,:] <= QBins[j+1]\n",
    "        c = Q[i,:] > QBins[j]\n",
    "        d = b & c\n",
    "        if np.sum(d)>0 and np.sum(R[i,d])>0:\n",
    "            k = k + np.sum(d)\n",
    "            R0[j] = R0[j] + np.sum(R[i,d])\n",
    "            VarR0[j] = VarR0[j] + np.sum(VarR[i,d])\n",
    "    if k != 0:\n",
    "        R0[j] = R0[j] / k\n",
    "        VarR0[j] = VarR0[j] / k**2\n",
    "\n",
    "#Normalize peak to unit signal\n",
    "RMax = np.max(R0)\n",
    "for j in range(p-1):\n",
    "    R0[j] = R0[j] / RMax\n",
    "    VarR0[j] = VarR0[j] / RMax**2\n",
    "    \n",
    "plt.figure(figsize = (7,7))\n",
    "plt.xlabel('Q ($\\AA$\\N{SUPERSCRIPT MINUS}\\N{SUPERSCRIPT ONE})',fontsize=18)\n",
    "plt.ylabel('Reflectivity',fontsize=18)\n",
    "plt.title('Runs: %s through %s'%(run_numbers[0],run_numbers[-1]),fontsize=18)\n",
    "plt.yscale('log')\n",
    "if LogBin:\n",
    "    BigSummary='dQ/Q = %s'%(rel_dQ)\n",
    "else:\n",
    "    BigSummary='dQ = %s($\\AA$\\N{SUPERSCRIPT MINUS}\\N{SUPERSCRIPT ONE}))'%(abs_dQ)\n",
    "plt.plot(Qz,R0,'bo',label=BigSummary)\n",
    "plt.errorbar(Qz,R0,yerr=np.sqrt(VarR0),capsize=4,ls='None',ecolor='b')\n",
    "if Diagnostic:\n",
    "    plt.plot(QSum,RSum,'ro')\n",
    "    plt.errorbar(QSum,RSum,yerr=np.sqrt(VarRSum),capsize=4,ls='None',ecolor='r')\n",
    "plt.legend(loc='upper right', fontsize='x-large')\n",
    "plt.show()"
   ]
  },
  {
   "cell_type": "markdown",
   "metadata": {},
   "source": [
    "## Write the results"
   ]
  },
  {
   "cell_type": "code",
   "execution_count": 84,
   "metadata": {},
   "outputs": [],
   "source": [
    "FileName = Output_File_Base+'_%s_%s.txt'%(run_numbers[0],run_numbers[-1])\n",
    "OutStrings = []\n",
    "for i in range(p-1):\n",
    "    OutStrings.append('%.10f\\t%.10f\\t%.10f\\t%.10f\\n'%(Qz[i],R0[i],np.sqrt(VarR0[i]),QBins[i+1]-QBins[i]))\n",
    "    OFile = open(FileName, 'w')\n",
    "    for item in OutStrings:\n",
    "        OFile.write(item)\n",
    "    OFile.close()"
   ]
  },
  {
   "cell_type": "code",
   "execution_count": null,
   "metadata": {},
   "outputs": [],
   "source": []
  }
 ],
 "metadata": {
  "kernelspec": {
   "display_name": "Python 3",
   "language": "python",
   "name": "python3"
  },
  "language_info": {
   "codemirror_mode": {
    "name": "ipython",
    "version": 3
   },
   "file_extension": ".py",
   "mimetype": "text/x-python",
   "name": "python",
   "nbconvert_exporter": "python",
   "pygments_lexer": "ipython3",
   "version": "3.7.4"
  }
 },
 "nbformat": 4,
 "nbformat_minor": 2
}
